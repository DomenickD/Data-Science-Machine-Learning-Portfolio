{
  "nbformat": 4,
  "nbformat_minor": 0,
  "metadata": {
    "colab": {
      "provenance": []
    },
    "kernelspec": {
      "name": "python3",
      "display_name": "Python 3"
    },
    "language_info": {
      "name": "python"
    }
  },
  "cells": [
    {
      "cell_type": "code",
      "execution_count": null,
      "metadata": {
        "colab": {
          "base_uri": "https://localhost:8080/"
        },
        "id": "g81sSSMJPm3n",
        "outputId": "0b2e5e49-5e94-450e-f75c-e98fb2149f30"
      },
      "outputs": [
        {
          "output_type": "stream",
          "name": "stdout",
          "text": [
            "test\n"
          ]
        }
      ],
      "source": [
        "print('test')"
      ]
    },
    {
      "cell_type": "code",
      "source": [
        "!nvidia-smi\n"
      ],
      "metadata": {
        "colab": {
          "base_uri": "https://localhost:8080/"
        },
        "id": "oFCIM-fsP9uV",
        "outputId": "19dd8f5d-cd36-4c05-de99-6279ec8a0a7d"
      },
      "execution_count": null,
      "outputs": [
        {
          "output_type": "stream",
          "name": "stdout",
          "text": [
            "NVIDIA-SMI has failed because it couldn't communicate with the NVIDIA driver. Make sure that the latest NVIDIA driver is installed and running.\n",
            "\n"
          ]
        }
      ]
    },
    {
      "cell_type": "markdown",
      "source": [
        "## 00.Ppytorch fundamentals"
      ],
      "metadata": {
        "id": "w6m5o5gNQXGb"
      }
    },
    {
      "cell_type": "code",
      "source": [
        "## 00.Ppytorch fundamentals"
      ],
      "metadata": {
        "id": "aVb8_8beQCCa"
      },
      "execution_count": null,
      "outputs": []
    },
    {
      "cell_type": "code",
      "source": [
        "import torch\n",
        "\n",
        "print(torch.__version__)"
      ],
      "metadata": {
        "colab": {
          "base_uri": "https://localhost:8080/"
        },
        "id": "aPQPbidPQjCj",
        "outputId": "833ec241-8475-4e6e-a900-72a4313c6a2c"
      },
      "execution_count": null,
      "outputs": [
        {
          "output_type": "stream",
          "name": "stdout",
          "text": [
            "1.12.1+cu113\n"
          ]
        }
      ]
    },
    {
      "cell_type": "markdown",
      "source": [
        "##Introduction to Tensors\n",
        "Creating Tensors\n",
        "\n",
        "Pytorch Tensors are created with torch.tensor()"
      ],
      "metadata": {
        "id": "-13XMjDhR-X4"
      }
    },
    {
      "cell_type": "code",
      "source": [
        "#scalar\n",
        "\n",
        "scalar = torch.tensor(7)\n",
        "scalar"
      ],
      "metadata": {
        "colab": {
          "base_uri": "https://localhost:8080/"
        },
        "id": "YlO36AxdSOnX",
        "outputId": "33e582b2-8a0e-4f82-8a06-7d38a673d2cb"
      },
      "execution_count": null,
      "outputs": [
        {
          "output_type": "execute_result",
          "data": {
            "text/plain": [
              "tensor(7)"
            ]
          },
          "metadata": {},
          "execution_count": 71
        }
      ]
    },
    {
      "cell_type": "code",
      "source": [
        "scalar.ndim"
      ],
      "metadata": {
        "colab": {
          "base_uri": "https://localhost:8080/"
        },
        "id": "XnDvQZUSSCKI",
        "outputId": "73e9acb6-a14d-4b1e-a11e-3b80f3371833"
      },
      "execution_count": null,
      "outputs": [
        {
          "output_type": "execute_result",
          "data": {
            "text/plain": [
              "0"
            ]
          },
          "metadata": {},
          "execution_count": 72
        }
      ]
    },
    {
      "cell_type": "code",
      "source": [
        "#get tensor back as python int\n",
        "scalar.item()"
      ],
      "metadata": {
        "colab": {
          "base_uri": "https://localhost:8080/"
        },
        "id": "NjFRSyspTBxW",
        "outputId": "79efe97a-e428-434a-dfcf-982c84625a52"
      },
      "execution_count": null,
      "outputs": [
        {
          "output_type": "execute_result",
          "data": {
            "text/plain": [
              "7"
            ]
          },
          "metadata": {},
          "execution_count": 73
        }
      ]
    },
    {
      "cell_type": "code",
      "source": [
        "vector = torch.tensor([7,7])\n",
        "vector"
      ],
      "metadata": {
        "colab": {
          "base_uri": "https://localhost:8080/"
        },
        "id": "cebvivaRTJeV",
        "outputId": "45db4e03-4721-44a7-851d-84d22fc19f2d"
      },
      "execution_count": null,
      "outputs": [
        {
          "output_type": "execute_result",
          "data": {
            "text/plain": [
              "tensor([7, 7])"
            ]
          },
          "metadata": {},
          "execution_count": 74
        }
      ]
    },
    {
      "cell_type": "code",
      "source": [
        "vector.ndim\n"
      ],
      "metadata": {
        "colab": {
          "base_uri": "https://localhost:8080/"
        },
        "id": "RgmONENPTJTV",
        "outputId": "712cba21-0f86-4299-db31-37a339e77c63"
      },
      "execution_count": null,
      "outputs": [
        {
          "output_type": "execute_result",
          "data": {
            "text/plain": [
              "1"
            ]
          },
          "metadata": {},
          "execution_count": 75
        }
      ]
    },
    {
      "cell_type": "code",
      "source": [
        "vector.shape"
      ],
      "metadata": {
        "colab": {
          "base_uri": "https://localhost:8080/"
        },
        "id": "zPEwJo8ETYd9",
        "outputId": "9e3b292c-f0cf-4f58-97e8-981d71790cd0"
      },
      "execution_count": null,
      "outputs": [
        {
          "output_type": "execute_result",
          "data": {
            "text/plain": [
              "torch.Size([2])"
            ]
          },
          "metadata": {},
          "execution_count": 76
        }
      ]
    },
    {
      "cell_type": "code",
      "source": [
        "#MATRIX\n",
        "MATRIX = torch.tensor([[7, 8],\n",
        "                       [9, 10]])\n",
        "MATRIX\n"
      ],
      "metadata": {
        "colab": {
          "base_uri": "https://localhost:8080/"
        },
        "id": "vuy-w4tUTb-e",
        "outputId": "ef56a8de-3d1d-4d58-d6b0-ad75c70ee194"
      },
      "execution_count": null,
      "outputs": [
        {
          "output_type": "execute_result",
          "data": {
            "text/plain": [
              "tensor([[ 7,  8],\n",
              "        [ 9, 10]])"
            ]
          },
          "metadata": {},
          "execution_count": 77
        }
      ]
    },
    {
      "cell_type": "code",
      "source": [
        "MATRIX.ndim"
      ],
      "metadata": {
        "colab": {
          "base_uri": "https://localhost:8080/"
        },
        "id": "6emYwU-LTeFN",
        "outputId": "f920d028-4285-434a-e49d-704ca764fa72"
      },
      "execution_count": null,
      "outputs": [
        {
          "output_type": "execute_result",
          "data": {
            "text/plain": [
              "2"
            ]
          },
          "metadata": {},
          "execution_count": 78
        }
      ]
    },
    {
      "cell_type": "code",
      "source": [
        "MATRIX[1]"
      ],
      "metadata": {
        "colab": {
          "base_uri": "https://localhost:8080/"
        },
        "id": "aoWUpDYTTeCA",
        "outputId": "4ba08817-d5b5-4577-91db-4695f447168d"
      },
      "execution_count": null,
      "outputs": [
        {
          "output_type": "execute_result",
          "data": {
            "text/plain": [
              "tensor([ 9, 10])"
            ]
          },
          "metadata": {},
          "execution_count": 79
        }
      ]
    },
    {
      "cell_type": "code",
      "source": [
        "MATRIX.shape"
      ],
      "metadata": {
        "colab": {
          "base_uri": "https://localhost:8080/"
        },
        "id": "lcTNcR20T4AI",
        "outputId": "f0393a2d-792d-494f-83ee-a6872846a69c"
      },
      "execution_count": null,
      "outputs": [
        {
          "output_type": "execute_result",
          "data": {
            "text/plain": [
              "torch.Size([2, 2])"
            ]
          },
          "metadata": {},
          "execution_count": 80
        }
      ]
    },
    {
      "cell_type": "code",
      "source": [
        "#Tensor\n",
        "TENSOR = torch.tensor([[[1,2,3],\n",
        "                        [3,4,5],\n",
        "                        [6,7,8]]])\n",
        "TENSOR"
      ],
      "metadata": {
        "colab": {
          "base_uri": "https://localhost:8080/"
        },
        "id": "sZC59PtAT39P",
        "outputId": "d3976b0c-a75e-4c53-c735-0f45af0bcc49"
      },
      "execution_count": null,
      "outputs": [
        {
          "output_type": "execute_result",
          "data": {
            "text/plain": [
              "tensor([[[1, 2, 3],\n",
              "         [3, 4, 5],\n",
              "         [6, 7, 8]]])"
            ]
          },
          "metadata": {},
          "execution_count": 81
        }
      ]
    },
    {
      "cell_type": "code",
      "source": [
        "TENSOR.ndim"
      ],
      "metadata": {
        "colab": {
          "base_uri": "https://localhost:8080/"
        },
        "id": "BJrYeZtJT36k",
        "outputId": "4b571f4f-f605-4a08-8112-e82d37b48d6b"
      },
      "execution_count": null,
      "outputs": [
        {
          "output_type": "execute_result",
          "data": {
            "text/plain": [
              "3"
            ]
          },
          "metadata": {},
          "execution_count": 82
        }
      ]
    },
    {
      "cell_type": "code",
      "source": [
        "TENSOR.shape"
      ],
      "metadata": {
        "colab": {
          "base_uri": "https://localhost:8080/"
        },
        "id": "90k5MFNaT339",
        "outputId": "604c8a05-911f-4ade-8a1b-221c4b20ecc2"
      },
      "execution_count": null,
      "outputs": [
        {
          "output_type": "execute_result",
          "data": {
            "text/plain": [
              "torch.Size([1, 3, 3])"
            ]
          },
          "metadata": {},
          "execution_count": 83
        }
      ]
    },
    {
      "cell_type": "code",
      "source": [
        "TENSOR[0]"
      ],
      "metadata": {
        "colab": {
          "base_uri": "https://localhost:8080/"
        },
        "id": "PGvRaFMbTd-N",
        "outputId": "e9f4f246-0d3d-42bf-957a-94aa7a117d05"
      },
      "execution_count": null,
      "outputs": [
        {
          "output_type": "execute_result",
          "data": {
            "text/plain": [
              "tensor([[1, 2, 3],\n",
              "        [3, 4, 5],\n",
              "        [6, 7, 8]])"
            ]
          },
          "metadata": {},
          "execution_count": 84
        }
      ]
    },
    {
      "cell_type": "markdown",
      "source": [
        "Random Tensors\n",
        "\n",
        "`Start with random numbers -> look at random numbers -> Look at data -> update random numbers"
      ],
      "metadata": {
        "id": "Sail8Ote5J6m"
      }
    },
    {
      "cell_type": "code",
      "source": [
        "#create a random tensor of size (3,4)\n",
        "random_tensor = torch.rand(3,4)\n",
        "random_tensor"
      ],
      "metadata": {
        "colab": {
          "base_uri": "https://localhost:8080/"
        },
        "id": "IvHpqzEWUnbL",
        "outputId": "a9298d78-9d3e-435c-90a8-f87171b5f027"
      },
      "execution_count": null,
      "outputs": [
        {
          "output_type": "execute_result",
          "data": {
            "text/plain": [
              "tensor([[0.8694, 0.5677, 0.7411, 0.4294],\n",
              "        [0.8854, 0.5739, 0.2666, 0.6274],\n",
              "        [0.2696, 0.4414, 0.2969, 0.8317]])"
            ]
          },
          "metadata": {},
          "execution_count": 85
        }
      ]
    },
    {
      "cell_type": "code",
      "source": [
        "random_tensor.ndim"
      ],
      "metadata": {
        "colab": {
          "base_uri": "https://localhost:8080/"
        },
        "id": "CzeMEXO_UnRi",
        "outputId": "4904d6fd-46b1-4d56-b730-0b094633257c"
      },
      "execution_count": null,
      "outputs": [
        {
          "output_type": "execute_result",
          "data": {
            "text/plain": [
              "2"
            ]
          },
          "metadata": {},
          "execution_count": 86
        }
      ]
    },
    {
      "cell_type": "code",
      "source": [
        "random_image_size_tensor = torch.rand(size=(224, 224, 3)) # hieght, width, color(RGB)\n",
        "random_image_size_tensor.shape, random_image_size_tensor.ndim"
      ],
      "metadata": {
        "colab": {
          "base_uri": "https://localhost:8080/"
        },
        "id": "AYD_hV4WC_ip",
        "outputId": "249b835e-8ea5-4204-9458-efce82ad1aa8"
      },
      "execution_count": null,
      "outputs": [
        {
          "output_type": "execute_result",
          "data": {
            "text/plain": [
              "(torch.Size([224, 224, 3]), 3)"
            ]
          },
          "metadata": {},
          "execution_count": 87
        }
      ]
    },
    {
      "cell_type": "code",
      "source": [
        "random_image_size_tensor"
      ],
      "metadata": {
        "colab": {
          "base_uri": "https://localhost:8080/"
        },
        "id": "IpGlkHlmTd3c",
        "outputId": "5ffe8f3a-d137-4640-bce0-cbaf8cb47974"
      },
      "execution_count": null,
      "outputs": [
        {
          "output_type": "execute_result",
          "data": {
            "text/plain": [
              "tensor([[[0.1053, 0.2695, 0.3588],\n",
              "         [0.1994, 0.5472, 0.0062],\n",
              "         [0.9516, 0.0753, 0.8860],\n",
              "         ...,\n",
              "         [0.3421, 0.0172, 0.3031],\n",
              "         [0.6576, 0.9813, 0.5840],\n",
              "         [0.9902, 0.5978, 0.7888]],\n",
              "\n",
              "        [[0.9008, 0.9180, 0.2201],\n",
              "         [0.9597, 0.8029, 0.2662],\n",
              "         [0.2614, 0.0806, 0.6256],\n",
              "         ...,\n",
              "         [0.3568, 0.1704, 0.6172],\n",
              "         [0.0231, 0.6317, 0.7472],\n",
              "         [0.0614, 0.1727, 0.1405]],\n",
              "\n",
              "        [[0.9203, 0.9251, 0.5313],\n",
              "         [0.9694, 0.3328, 0.0146],\n",
              "         [0.6746, 0.6771, 0.9902],\n",
              "         ...,\n",
              "         [0.8345, 0.2273, 0.2865],\n",
              "         [0.3940, 0.1418, 0.3650],\n",
              "         [0.0908, 0.6902, 0.8538]],\n",
              "\n",
              "        ...,\n",
              "\n",
              "        [[0.5521, 0.6004, 0.1658],\n",
              "         [0.1479, 0.8327, 0.2563],\n",
              "         [0.1063, 0.4770, 0.2286],\n",
              "         ...,\n",
              "         [0.1551, 0.7881, 0.3759],\n",
              "         [0.7442, 0.8621, 0.7548],\n",
              "         [0.6381, 0.0106, 0.0893]],\n",
              "\n",
              "        [[0.6170, 0.3402, 0.8306],\n",
              "         [0.0705, 0.2111, 0.6203],\n",
              "         [0.6531, 0.4660, 0.2933],\n",
              "         ...,\n",
              "         [0.6393, 0.7158, 0.6099],\n",
              "         [0.1369, 0.4302, 0.7265],\n",
              "         [0.6237, 0.8480, 0.4580]],\n",
              "\n",
              "        [[0.2424, 0.8264, 0.0015],\n",
              "         [0.9050, 0.1563, 0.7214],\n",
              "         [0.2574, 0.0023, 0.2589],\n",
              "         ...,\n",
              "         [0.0992, 0.3078, 0.7786],\n",
              "         [0.8016, 0.3649, 0.6286],\n",
              "         [0.9663, 0.7687, 0.4566]]])"
            ]
          },
          "metadata": {},
          "execution_count": 88
        }
      ]
    },
    {
      "cell_type": "markdown",
      "source": [
        "Zeros and Ones"
      ],
      "metadata": {
        "id": "nQ0-bsOhGKS6"
      }
    },
    {
      "cell_type": "code",
      "source": [
        "#create a tensor of all zeros\n",
        "zeros = torch.zeros(size=(3,4))\n",
        "zeros"
      ],
      "metadata": {
        "colab": {
          "base_uri": "https://localhost:8080/"
        },
        "id": "vhMushITGM6y",
        "outputId": "754917d1-ca7b-4f71-f9ac-d1888b896f99"
      },
      "execution_count": null,
      "outputs": [
        {
          "output_type": "execute_result",
          "data": {
            "text/plain": [
              "tensor([[0., 0., 0., 0.],\n",
              "        [0., 0., 0., 0.],\n",
              "        [0., 0., 0., 0.]])"
            ]
          },
          "metadata": {},
          "execution_count": 89
        }
      ]
    },
    {
      "cell_type": "code",
      "source": [
        "zeros * random_tensor"
      ],
      "metadata": {
        "colab": {
          "base_uri": "https://localhost:8080/"
        },
        "id": "CJFmeFc_GNAy",
        "outputId": "548eb3bf-ff15-4b36-82f2-9e196d23bbd8"
      },
      "execution_count": null,
      "outputs": [
        {
          "output_type": "execute_result",
          "data": {
            "text/plain": [
              "tensor([[0., 0., 0., 0.],\n",
              "        [0., 0., 0., 0.],\n",
              "        [0., 0., 0., 0.]])"
            ]
          },
          "metadata": {},
          "execution_count": 90
        }
      ]
    },
    {
      "cell_type": "code",
      "source": [
        "#create a tensor of all ones\n",
        "ones = torch.ones(size=(3,4))\n",
        "ones"
      ],
      "metadata": {
        "colab": {
          "base_uri": "https://localhost:8080/"
        },
        "id": "ZydKPOpcGM96",
        "outputId": "840cec87-7dab-4575-d550-b0b6d525d9eb"
      },
      "execution_count": null,
      "outputs": [
        {
          "output_type": "execute_result",
          "data": {
            "text/plain": [
              "tensor([[1., 1., 1., 1.],\n",
              "        [1., 1., 1., 1.],\n",
              "        [1., 1., 1., 1.]])"
            ]
          },
          "metadata": {},
          "execution_count": 91
        }
      ]
    },
    {
      "cell_type": "code",
      "source": [
        "ones.dtype"
      ],
      "metadata": {
        "colab": {
          "base_uri": "https://localhost:8080/"
        },
        "id": "0_4bRrXPTdrl",
        "outputId": "72d8351d-8371-46d6-ba9f-045c3459dd15"
      },
      "execution_count": null,
      "outputs": [
        {
          "output_type": "execute_result",
          "data": {
            "text/plain": [
              "torch.float32"
            ]
          },
          "metadata": {},
          "execution_count": 92
        }
      ]
    },
    {
      "cell_type": "markdown",
      "source": [
        "## Create a range of Tensors and tensors-like"
      ],
      "metadata": {
        "id": "q0sHiCBetfdV"
      }
    },
    {
      "cell_type": "code",
      "source": [
        "#use torch.arange\n",
        "one_to_ten = torch.arange(1, 11)\n",
        "one_to_ten \n"
      ],
      "metadata": {
        "colab": {
          "base_uri": "https://localhost:8080/"
        },
        "id": "krXIK5u5GmKo",
        "outputId": "6c777a31-33f6-4153-9e77-f367e58ad8f6"
      },
      "execution_count": null,
      "outputs": [
        {
          "output_type": "execute_result",
          "data": {
            "text/plain": [
              "tensor([ 1,  2,  3,  4,  5,  6,  7,  8,  9, 10])"
            ]
          },
          "metadata": {},
          "execution_count": 93
        }
      ]
    },
    {
      "cell_type": "code",
      "source": [
        "torch.arange(start= 0, end = 1000, step = 77)"
      ],
      "metadata": {
        "colab": {
          "base_uri": "https://localhost:8080/"
        },
        "id": "KCEwyFoGGmIa",
        "outputId": "b8b1088e-e9a9-4f7f-97cc-d86a867ef253"
      },
      "execution_count": null,
      "outputs": [
        {
          "output_type": "execute_result",
          "data": {
            "text/plain": [
              "tensor([  0,  77, 154, 231, 308, 385, 462, 539, 616, 693, 770, 847, 924])"
            ]
          },
          "metadata": {},
          "execution_count": 94
        }
      ]
    },
    {
      "cell_type": "code",
      "source": [
        "#tensors-like\n",
        "ten_zeros = torch.zeros_like(input=one_to_ten)\n",
        "ten_zeros"
      ],
      "metadata": {
        "colab": {
          "base_uri": "https://localhost:8080/"
        },
        "id": "rYLlJ_IeuJGb",
        "outputId": "0bb1816c-8656-47fe-9d5e-d0909568343e"
      },
      "execution_count": null,
      "outputs": [
        {
          "output_type": "execute_result",
          "data": {
            "text/plain": [
              "tensor([0, 0, 0, 0, 0, 0, 0, 0, 0, 0])"
            ]
          },
          "metadata": {},
          "execution_count": 95
        }
      ]
    },
    {
      "cell_type": "markdown",
      "source": [
        "Tensor Datatypes\n"
      ],
      "metadata": {
        "id": "6wskn8JC8X03"
      }
    },
    {
      "cell_type": "code",
      "source": [
        "#float 32\n",
        "float_32_tensor = torch.tensor([3.0, 6.0, 9.0],\n",
        "                               dtype = None, #What dtype is tensor\n",
        "                               device = None, #What device is tensor on --- cude, gpu, cpu\n",
        "                               requires_grad = False) #whether or not to track gradients with tensor operations\n",
        "float_32_tensor"
      ],
      "metadata": {
        "colab": {
          "base_uri": "https://localhost:8080/"
        },
        "id": "O7WY4bvDuJC9",
        "outputId": "9524a8fa-fa3b-4f5a-e762-3db857d10f1a"
      },
      "execution_count": null,
      "outputs": [
        {
          "output_type": "execute_result",
          "data": {
            "text/plain": [
              "tensor([3., 6., 9.])"
            ]
          },
          "metadata": {},
          "execution_count": 96
        }
      ]
    },
    {
      "cell_type": "code",
      "source": [
        "float_32_tensor.dtype"
      ],
      "metadata": {
        "colab": {
          "base_uri": "https://localhost:8080/"
        },
        "id": "aqAqL7zyGmFb",
        "outputId": "ab21dc2b-96df-40e4-ad79-ae08feb78bf7"
      },
      "execution_count": null,
      "outputs": [
        {
          "output_type": "execute_result",
          "data": {
            "text/plain": [
              "torch.float32"
            ]
          },
          "metadata": {},
          "execution_count": 97
        }
      ]
    },
    {
      "cell_type": "markdown",
      "source": [
        "THREE BIG ERRORS\n",
        "1. Tensor not right datatype\n",
        "2. Tensor not right shape\n",
        "3. Tensor not on the right device\n"
      ],
      "metadata": {
        "id": "Ni1uhazeFstF"
      }
    },
    {
      "cell_type": "markdown",
      "source": [
        "###Manipulating Tensors (tensor operations)"
      ],
      "metadata": {
        "id": "5CMHVSOVjIRg"
      }
    },
    {
      "cell_type": "code",
      "source": [
        "# Add, subtract, multiple, divide, matrix multiplication\n",
        "# torch.mul(tensor, 10) == tensor * 10\n"
      ],
      "metadata": {
        "id": "g1BdMzSsGmCj"
      },
      "execution_count": null,
      "outputs": []
    },
    {
      "cell_type": "code",
      "source": [
        "#Matrix multiplication \n",
        "tensor = torch.tensor([1,2,3])\n",
        "tensor\n"
      ],
      "metadata": {
        "colab": {
          "base_uri": "https://localhost:8080/"
        },
        "id": "3TUtBcaaGl_z",
        "outputId": "7eb1f25b-d8cf-4bdf-c663-d167a173a635"
      },
      "execution_count": null,
      "outputs": [
        {
          "output_type": "execute_result",
          "data": {
            "text/plain": [
              "tensor([1, 2, 3])"
            ]
          },
          "metadata": {},
          "execution_count": 99
        }
      ]
    },
    {
      "cell_type": "code",
      "source": [
        "# tensor * tensor != matmul. matmul(tensor, tensor) is teh same as tensor @ tensor\n",
        "torch.matmul(tensor, tensor)"
      ],
      "metadata": {
        "colab": {
          "base_uri": "https://localhost:8080/"
        },
        "id": "rpH4ctXpGl85",
        "outputId": "01a6c6cd-d56e-47af-dcb4-b8e54b7819a4"
      },
      "execution_count": null,
      "outputs": [
        {
          "output_type": "execute_result",
          "data": {
            "text/plain": [
              "tensor(14)"
            ]
          },
          "metadata": {},
          "execution_count": 100
        }
      ]
    },
    {
      "cell_type": "code",
      "source": [
        "# use %%time to print out the time of process"
      ],
      "metadata": {
        "id": "es0qho-QGl2M"
      },
      "execution_count": null,
      "outputs": []
    },
    {
      "cell_type": "markdown",
      "source": [
        "One of the most common errors in deep learning is a shape error\n"
      ],
      "metadata": {
        "id": "I8GBkmXOmvPY"
      }
    },
    {
      "cell_type": "code",
      "source": [
        "tensor = torch.tensor([[1,2,3],\n",
        "                       [4,5,6]])\n",
        "tensor"
      ],
      "metadata": {
        "colab": {
          "base_uri": "https://localhost:8080/"
        },
        "id": "dgPzBuoopyHs",
        "outputId": "7d548990-7f85-4af1-d792-9e8ce93c74bd"
      },
      "execution_count": null,
      "outputs": [
        {
          "output_type": "execute_result",
          "data": {
            "text/plain": [
              "tensor([[1, 2, 3],\n",
              "        [4, 5, 6]])"
            ]
          },
          "metadata": {},
          "execution_count": 102
        }
      ]
    },
    {
      "cell_type": "code",
      "source": [
        "# Tensor.T is transpose\n",
        "tensor_a = tensor.T\n",
        "tensor_a"
      ],
      "metadata": {
        "colab": {
          "base_uri": "https://localhost:8080/"
        },
        "id": "3Qi5i9uSGlzF",
        "outputId": "9784fc39-1bb2-4828-e0a1-088f1af6f3d5"
      },
      "execution_count": null,
      "outputs": [
        {
          "output_type": "execute_result",
          "data": {
            "text/plain": [
              "tensor([[1, 4],\n",
              "        [2, 5],\n",
              "        [3, 6]])"
            ]
          },
          "metadata": {},
          "execution_count": 103
        }
      ]
    },
    {
      "cell_type": "markdown",
      "source": [
        "Finding the min, max, mean, sum, etc of a tensor\n"
      ],
      "metadata": {
        "id": "sarZeIn0s22O"
      }
    },
    {
      "cell_type": "code",
      "source": [
        "# create a tensor\n",
        "x = torch.arange(0, 100, 10)\n",
        "torch.min(x), x.min()\n"
      ],
      "metadata": {
        "colab": {
          "base_uri": "https://localhost:8080/"
        },
        "id": "v7VC3zL5s6YV",
        "outputId": "b82c26e5-8317-4ab0-cfdb-d5a2947e543e"
      },
      "execution_count": null,
      "outputs": [
        {
          "output_type": "execute_result",
          "data": {
            "text/plain": [
              "(tensor(0), tensor(0))"
            ]
          },
          "metadata": {},
          "execution_count": 104
        }
      ]
    },
    {
      "cell_type": "code",
      "source": [
        "%%time \n",
        "#So cool!\n",
        "torch.max(x), x.max()"
      ],
      "metadata": {
        "colab": {
          "base_uri": "https://localhost:8080/"
        },
        "id": "W-jMaB_Ds7J0",
        "outputId": "de87e421-f312-45fd-8e7e-6128f8bc5a04"
      },
      "execution_count": null,
      "outputs": [
        {
          "output_type": "stream",
          "name": "stdout",
          "text": [
            "CPU times: user 72 µs, sys: 11 µs, total: 83 µs\n",
            "Wall time: 86.3 µs\n"
          ]
        },
        {
          "output_type": "execute_result",
          "data": {
            "text/plain": [
              "(tensor(90), tensor(90))"
            ]
          },
          "metadata": {},
          "execution_count": 105
        }
      ]
    },
    {
      "cell_type": "code",
      "source": [
        "# mean needs a float32 dtype\n",
        "torch.mean(x.type(torch.float32)), x.type(torch.float32).mean()"
      ],
      "metadata": {
        "colab": {
          "base_uri": "https://localhost:8080/"
        },
        "id": "nnv832q_s7GO",
        "outputId": "1d0aea3e-053f-4971-ec6e-3b0a86611131"
      },
      "execution_count": null,
      "outputs": [
        {
          "output_type": "execute_result",
          "data": {
            "text/plain": [
              "(tensor(45.), tensor(45.))"
            ]
          },
          "metadata": {},
          "execution_count": 106
        }
      ]
    },
    {
      "cell_type": "markdown",
      "source": [
        "Reshaping, stacking, squeezing, unsqueezing\n",
        "\n",
        "*reshaping -- it is what it sounds like. think Transposing\n",
        "\n",
        "*view is like reshaping but shares the same memory as original tensor\n",
        "\n",
        "*stacking - like concat but puts them ontop of eachother(vstack)\n",
        "\n",
        "*squeeze --removes 1 dimension from a tensor\n",
        "\n",
        "*unsqueeze - removes a dimension from a tensor\n",
        "\n",
        "*permute return a view of the input with dimensions permuted(swapped) in a certain way"
      ],
      "metadata": {
        "id": "iWuvt_gy4PpM"
      }
    },
    {
      "cell_type": "code",
      "source": [
        "# make a new tensor\n",
        "x = torch.arange(1., 11.)\n",
        "x, x.shape"
      ],
      "metadata": {
        "id": "GkGRyX6ms7Cx",
        "colab": {
          "base_uri": "https://localhost:8080/"
        },
        "outputId": "81cd0f87-d70c-4d40-9359-d3b662306e00"
      },
      "execution_count": null,
      "outputs": [
        {
          "output_type": "execute_result",
          "data": {
            "text/plain": [
              "(tensor([ 1.,  2.,  3.,  4.,  5.,  6.,  7.,  8.,  9., 10.]), torch.Size([10]))"
            ]
          },
          "metadata": {},
          "execution_count": 107
        }
      ]
    },
    {
      "cell_type": "code",
      "source": [
        "x_reshaped = x.reshape(10, 1)\n",
        "x_reshaped, x_reshaped.shape"
      ],
      "metadata": {
        "id": "Xb9lP-wBs6_w",
        "colab": {
          "base_uri": "https://localhost:8080/"
        },
        "outputId": "465c3427-5588-436f-de3f-ad7556524849"
      },
      "execution_count": null,
      "outputs": [
        {
          "output_type": "execute_result",
          "data": {
            "text/plain": [
              "(tensor([[ 1.],\n",
              "         [ 2.],\n",
              "         [ 3.],\n",
              "         [ 4.],\n",
              "         [ 5.],\n",
              "         [ 6.],\n",
              "         [ 7.],\n",
              "         [ 8.],\n",
              "         [ 9.],\n",
              "         [10.]]), torch.Size([10, 1]))"
            ]
          },
          "metadata": {},
          "execution_count": 108
        }
      ]
    },
    {
      "cell_type": "code",
      "source": [
        "x_reshaped = x.reshape(5, 2) # 5 * 2 = 10 and the size of x is 10\n",
        "x_reshaped, x_reshaped.shape"
      ],
      "metadata": {
        "id": "mJJ6WK6Ls682",
        "colab": {
          "base_uri": "https://localhost:8080/"
        },
        "outputId": "b1e740d1-5f92-4d1f-8751-4208d692aa09"
      },
      "execution_count": null,
      "outputs": [
        {
          "output_type": "execute_result",
          "data": {
            "text/plain": [
              "(tensor([[ 1.,  2.],\n",
              "         [ 3.,  4.],\n",
              "         [ 5.,  6.],\n",
              "         [ 7.,  8.],\n",
              "         [ 9., 10.]]), torch.Size([5, 2]))"
            ]
          },
          "metadata": {},
          "execution_count": 109
        }
      ]
    },
    {
      "cell_type": "code",
      "source": [
        "x_reshaped = x.reshape(1, 10)\n",
        "x_reshaped"
      ],
      "metadata": {
        "colab": {
          "base_uri": "https://localhost:8080/"
        },
        "id": "xKEM16HZ-7V1",
        "outputId": "9beac0ad-e77c-4a82-c122-25e5545b4d8f"
      },
      "execution_count": null,
      "outputs": [
        {
          "output_type": "execute_result",
          "data": {
            "text/plain": [
              "tensor([[ 1.,  2.,  3.,  4.,  5.,  6.,  7.,  8.,  9., 10.]])"
            ]
          },
          "metadata": {},
          "execution_count": 110
        }
      ]
    },
    {
      "cell_type": "code",
      "source": [
        "z = x.view(1,10)\n",
        "z, z.shape"
      ],
      "metadata": {
        "colab": {
          "base_uri": "https://localhost:8080/"
        },
        "id": "zl_5z8e958UF",
        "outputId": "ac2415a8-d8c2-4874-8c8a-b91dce552a46"
      },
      "execution_count": null,
      "outputs": [
        {
          "output_type": "execute_result",
          "data": {
            "text/plain": [
              "(tensor([[ 1.,  2.,  3.,  4.,  5.,  6.,  7.,  8.,  9., 10.]]),\n",
              " torch.Size([1, 10]))"
            ]
          },
          "metadata": {},
          "execution_count": 111
        }
      ]
    },
    {
      "cell_type": "code",
      "source": [
        "#stack on top -- there is also vstack and hstack (look them up on your own)\n",
        "x_stacked = torch.stack([x,x,x,x], dim=1) #this dim is for dimension. so think stacking it on a dimension. Like tilting? hard to think of\n",
        "x_stacked, x_stacked.shape"
      ],
      "metadata": {
        "colab": {
          "base_uri": "https://localhost:8080/"
        },
        "id": "pQjlsfng58Rw",
        "outputId": "722545f4-acde-442e-cc52-8b1f88714d42"
      },
      "execution_count": null,
      "outputs": [
        {
          "output_type": "execute_result",
          "data": {
            "text/plain": [
              "(tensor([[ 1.,  1.,  1.,  1.],\n",
              "         [ 2.,  2.,  2.,  2.],\n",
              "         [ 3.,  3.,  3.,  3.],\n",
              "         [ 4.,  4.,  4.,  4.],\n",
              "         [ 5.,  5.,  5.,  5.],\n",
              "         [ 6.,  6.,  6.,  6.],\n",
              "         [ 7.,  7.,  7.,  7.],\n",
              "         [ 8.,  8.,  8.,  8.],\n",
              "         [ 9.,  9.,  9.,  9.],\n",
              "         [10., 10., 10., 10.]]), torch.Size([10, 4]))"
            ]
          },
          "metadata": {},
          "execution_count": 112
        }
      ]
    },
    {
      "cell_type": "code",
      "source": [
        "#torch.squeeze - removes all single target dimensions from a tensor\n",
        "x_reshaped.shape"
      ],
      "metadata": {
        "id": "k5Tu5fLgs654",
        "colab": {
          "base_uri": "https://localhost:8080/"
        },
        "outputId": "40db20d4-cd5b-403b-d771-d58f18bc5898"
      },
      "execution_count": null,
      "outputs": [
        {
          "output_type": "execute_result",
          "data": {
            "text/plain": [
              "torch.Size([1, 10])"
            ]
          },
          "metadata": {},
          "execution_count": 113
        }
      ]
    },
    {
      "cell_type": "code",
      "source": [
        "x_reshaped"
      ],
      "metadata": {
        "colab": {
          "base_uri": "https://localhost:8080/"
        },
        "id": "lel0-MGq_R8i",
        "outputId": "8f6e4ff3-32b9-4168-c2e3-e6e5cd588d86"
      },
      "execution_count": null,
      "outputs": [
        {
          "output_type": "execute_result",
          "data": {
            "text/plain": [
              "tensor([[ 1.,  2.,  3.,  4.,  5.,  6.,  7.,  8.,  9., 10.]])"
            ]
          },
          "metadata": {},
          "execution_count": 114
        }
      ]
    },
    {
      "cell_type": "code",
      "source": [
        "x_reshaped = x_reshaped.squeeze().shape"
      ],
      "metadata": {
        "id": "w1_ZzyYv-ePt"
      },
      "execution_count": null,
      "outputs": []
    },
    {
      "cell_type": "code",
      "source": [
        "x_reshaped"
      ],
      "metadata": {
        "colab": {
          "base_uri": "https://localhost:8080/"
        },
        "id": "RV-bXsNB-eME",
        "outputId": "1d4cd84e-e047-4fa5-ad29-d36aa2e17b2b"
      },
      "execution_count": null,
      "outputs": [
        {
          "output_type": "execute_result",
          "data": {
            "text/plain": [
              "torch.Size([10])"
            ]
          },
          "metadata": {},
          "execution_count": 116
        }
      ]
    },
    {
      "cell_type": "markdown",
      "source": [
        "squeeze() and unsqueeze(dim=0)"
      ],
      "metadata": {
        "id": "EkF2QgxI_8ay"
      }
    },
    {
      "cell_type": "code",
      "source": [
        "tensor = torch.rand(size = (10, 222, 3))\n",
        "tensor, tensor.shape"
      ],
      "metadata": {
        "colab": {
          "base_uri": "https://localhost:8080/"
        },
        "id": "CWXcwSuu-eJU",
        "outputId": "e416c64d-ae55-4536-f13d-547f71e8e9d4"
      },
      "execution_count": null,
      "outputs": [
        {
          "output_type": "execute_result",
          "data": {
            "text/plain": [
              "(tensor([[[0.5745, 0.9200, 0.3230],\n",
              "          [0.8613, 0.0919, 0.3102],\n",
              "          [0.9536, 0.6002, 0.0351],\n",
              "          ...,\n",
              "          [0.0931, 0.2550, 0.3019],\n",
              "          [0.5889, 0.2446, 0.9089],\n",
              "          [0.6501, 0.1374, 0.3852]],\n",
              " \n",
              "         [[0.7029, 0.0650, 0.1280],\n",
              "          [0.0728, 0.4482, 0.8423],\n",
              "          [0.3919, 0.1191, 0.7616],\n",
              "          ...,\n",
              "          [0.2096, 0.2793, 0.1626],\n",
              "          [0.5664, 0.3895, 0.0026],\n",
              "          [0.1419, 0.7609, 0.7489]],\n",
              " \n",
              "         [[0.3955, 0.9072, 0.2694],\n",
              "          [0.4601, 0.4145, 0.8877],\n",
              "          [0.7979, 0.1490, 0.8975],\n",
              "          ...,\n",
              "          [0.6153, 0.6509, 0.6609],\n",
              "          [0.4575, 0.0230, 0.5170],\n",
              "          [0.6960, 0.2174, 0.5862]],\n",
              " \n",
              "         ...,\n",
              " \n",
              "         [[0.3966, 0.9743, 0.3888],\n",
              "          [0.2200, 0.3373, 0.7092],\n",
              "          [0.5078, 0.7820, 0.0542],\n",
              "          ...,\n",
              "          [0.4245, 0.9513, 0.9191],\n",
              "          [0.0986, 0.6056, 0.9114],\n",
              "          [0.4178, 0.8171, 0.1655]],\n",
              " \n",
              "         [[0.1067, 0.1978, 0.6560],\n",
              "          [0.5661, 0.1529, 0.0597],\n",
              "          [0.6651, 0.9675, 0.1398],\n",
              "          ...,\n",
              "          [0.5013, 0.5267, 0.3218],\n",
              "          [0.4158, 0.8700, 0.8950],\n",
              "          [0.5014, 0.6677, 0.1430]],\n",
              " \n",
              "         [[0.2004, 0.6463, 0.2831],\n",
              "          [0.1584, 0.0276, 0.8660],\n",
              "          [0.9456, 0.5112, 0.3716],\n",
              "          ...,\n",
              "          [0.2916, 0.9090, 0.1477],\n",
              "          [0.6106, 0.8713, 0.3562],\n",
              "          [0.2491, 0.3144, 0.7064]]]), torch.Size([10, 222, 3]))"
            ]
          },
          "metadata": {},
          "execution_count": 117
        }
      ]
    },
    {
      "cell_type": "code",
      "source": [
        "tensor.shape"
      ],
      "metadata": {
        "colab": {
          "base_uri": "https://localhost:8080/"
        },
        "id": "W0wg2z5hBhxm",
        "outputId": "5f2516bf-0389-4554-c99d-fe82650cd883"
      },
      "execution_count": null,
      "outputs": [
        {
          "output_type": "execute_result",
          "data": {
            "text/plain": [
              "torch.Size([10, 222, 3])"
            ]
          },
          "metadata": {},
          "execution_count": 118
        }
      ]
    },
    {
      "cell_type": "code",
      "source": [
        "#permute changes dimensions locations\n",
        "tensor_permuted = tensor.permute(2,0,1)\n",
        "tensor_permuted.shape"
      ],
      "metadata": {
        "id": "oh3kNgWns62d",
        "colab": {
          "base_uri": "https://localhost:8080/"
        },
        "outputId": "0ba56745-f62a-4cee-adbc-3037b284e541"
      },
      "execution_count": null,
      "outputs": [
        {
          "output_type": "execute_result",
          "data": {
            "text/plain": [
              "torch.Size([3, 10, 222])"
            ]
          },
          "metadata": {},
          "execution_count": 119
        }
      ]
    },
    {
      "cell_type": "code",
      "source": [
        "tensor_permuted"
      ],
      "metadata": {
        "colab": {
          "base_uri": "https://localhost:8080/"
        },
        "id": "wexcF_YoBoz9",
        "outputId": "cc0fa6ca-6096-4579-8fca-a51eb1b2fdda"
      },
      "execution_count": null,
      "outputs": [
        {
          "output_type": "execute_result",
          "data": {
            "text/plain": [
              "tensor([[[0.5745, 0.8613, 0.9536,  ..., 0.0931, 0.5889, 0.6501],\n",
              "         [0.7029, 0.0728, 0.3919,  ..., 0.2096, 0.5664, 0.1419],\n",
              "         [0.3955, 0.4601, 0.7979,  ..., 0.6153, 0.4575, 0.6960],\n",
              "         ...,\n",
              "         [0.3966, 0.2200, 0.5078,  ..., 0.4245, 0.0986, 0.4178],\n",
              "         [0.1067, 0.5661, 0.6651,  ..., 0.5013, 0.4158, 0.5014],\n",
              "         [0.2004, 0.1584, 0.9456,  ..., 0.2916, 0.6106, 0.2491]],\n",
              "\n",
              "        [[0.9200, 0.0919, 0.6002,  ..., 0.2550, 0.2446, 0.1374],\n",
              "         [0.0650, 0.4482, 0.1191,  ..., 0.2793, 0.3895, 0.7609],\n",
              "         [0.9072, 0.4145, 0.1490,  ..., 0.6509, 0.0230, 0.2174],\n",
              "         ...,\n",
              "         [0.9743, 0.3373, 0.7820,  ..., 0.9513, 0.6056, 0.8171],\n",
              "         [0.1978, 0.1529, 0.9675,  ..., 0.5267, 0.8700, 0.6677],\n",
              "         [0.6463, 0.0276, 0.5112,  ..., 0.9090, 0.8713, 0.3144]],\n",
              "\n",
              "        [[0.3230, 0.3102, 0.0351,  ..., 0.3019, 0.9089, 0.3852],\n",
              "         [0.1280, 0.8423, 0.7616,  ..., 0.1626, 0.0026, 0.7489],\n",
              "         [0.2694, 0.8877, 0.8975,  ..., 0.6609, 0.5170, 0.5862],\n",
              "         ...,\n",
              "         [0.3888, 0.7092, 0.0542,  ..., 0.9191, 0.9114, 0.1655],\n",
              "         [0.6560, 0.0597, 0.1398,  ..., 0.3218, 0.8950, 0.1430],\n",
              "         [0.2831, 0.8660, 0.3716,  ..., 0.1477, 0.3562, 0.7064]]])"
            ]
          },
          "metadata": {},
          "execution_count": 120
        }
      ]
    },
    {
      "cell_type": "markdown",
      "source": [
        "Indexing is Pytorch is the same as indexing in Numpy"
      ],
      "metadata": {
        "id": "Hvh8PMXvCTC4"
      }
    },
    {
      "cell_type": "code",
      "source": [
        "# Change between Pytorch and Numpy\n",
        "# torch.from_numpy(ndarray)\n",
        "# torch.Tensor.numpy()"
      ],
      "metadata": {
        "id": "pVcKMuwGCTZF"
      },
      "execution_count": null,
      "outputs": []
    },
    {
      "cell_type": "code",
      "source": [
        "import torch\n",
        "import numpy as np\n",
        "\n",
        "array = np.arange(1.0, 8.0)\n",
        "tensor = torch.from_numpy(array).type(torch.float32)\n",
        "array, tensor"
      ],
      "metadata": {
        "colab": {
          "base_uri": "https://localhost:8080/"
        },
        "id": "u3ZSr5dmE9FA",
        "outputId": "8719569d-e198-48d1-ae6d-97932e3f85bd"
      },
      "execution_count": null,
      "outputs": [
        {
          "output_type": "execute_result",
          "data": {
            "text/plain": [
              "(array([1., 2., 3., 4., 5., 6., 7.]), tensor([1., 2., 3., 4., 5., 6., 7.]))"
            ]
          },
          "metadata": {},
          "execution_count": 122
        }
      ]
    },
    {
      "cell_type": "markdown",
      "source": [
        "default numpy dtype is float64, while default pytorch dtype is float32\n",
        "so when changing between the 2. add \n",
        "`.type(torch.float32)`"
      ],
      "metadata": {
        "id": "3WoQ1i1sGx1s"
      }
    },
    {
      "cell_type": "code",
      "source": [
        "array.dtype, tensor.dtype"
      ],
      "metadata": {
        "colab": {
          "base_uri": "https://localhost:8080/"
        },
        "id": "QU1qX6NqE9Ch",
        "outputId": "6f520cb8-7e1f-4261-fe7f-7b8eca0aa8c5"
      },
      "execution_count": null,
      "outputs": [
        {
          "output_type": "execute_result",
          "data": {
            "text/plain": [
              "(dtype('float64'), torch.float32)"
            ]
          },
          "metadata": {},
          "execution_count": 123
        }
      ]
    },
    {
      "cell_type": "code",
      "source": [
        "#tensor to numpy\n",
        "tensor = torch.ones(7)\n",
        "numpy_tensor = tensor.numpy()\n",
        "tensor, numpy_tensor"
      ],
      "metadata": {
        "colab": {
          "base_uri": "https://localhost:8080/"
        },
        "id": "Ko-xJPuvGnTb",
        "outputId": "7a8cf614-6543-4bf1-ed55-efb19bd84f1d"
      },
      "execution_count": null,
      "outputs": [
        {
          "output_type": "execute_result",
          "data": {
            "text/plain": [
              "(tensor([1., 1., 1., 1., 1., 1., 1.]),\n",
              " array([1., 1., 1., 1., 1., 1., 1.], dtype=float32))"
            ]
          },
          "metadata": {},
          "execution_count": 124
        }
      ]
    },
    {
      "cell_type": "code",
      "source": [
        "tensor.dtype, numpy_tensor.dtype #it kept the default dtype from the tensor (float32) "
      ],
      "metadata": {
        "colab": {
          "base_uri": "https://localhost:8080/"
        },
        "id": "cK3P98U9GnJc",
        "outputId": "23056d3e-159e-4a22-df0b-e019034eae09"
      },
      "execution_count": null,
      "outputs": [
        {
          "output_type": "execute_result",
          "data": {
            "text/plain": [
              "(torch.float32, dtype('float32'))"
            ]
          },
          "metadata": {},
          "execution_count": 125
        }
      ]
    },
    {
      "cell_type": "markdown",
      "source": [
        "Reproducability - taking the random out of random\n",
        "random numbers -> tensor operations -> update random numbers   (kind of like Kmeans)\n",
        "\n",
        "Random Seed - \"flavor\" the randomness"
      ],
      "metadata": {
        "id": "RbBcN7vgqHLN"
      }
    },
    {
      "cell_type": "code",
      "source": [
        "torch.rand(3,3)"
      ],
      "metadata": {
        "colab": {
          "base_uri": "https://localhost:8080/"
        },
        "id": "ZRDB5GV6GnG5",
        "outputId": "9ddde9c9-7ba4-4a2e-8a74-59e147b5b2ae"
      },
      "execution_count": null,
      "outputs": [
        {
          "output_type": "execute_result",
          "data": {
            "text/plain": [
              "tensor([[0.6094, 0.0170, 0.2312],\n",
              "        [0.3490, 0.4784, 0.5083],\n",
              "        [0.6486, 0.1850, 0.8696]])"
            ]
          },
          "metadata": {},
          "execution_count": 126
        }
      ]
    },
    {
      "cell_type": "code",
      "source": [
        "random_tensor_A = torch.rand(3,4)\n",
        "random_tensor_B = torch.rand(3,4)\n",
        "\n",
        "print(random_tensor_A)\n",
        "print(random_tensor_B)\n",
        "print(random_tensor_A == random_tensor_B)"
      ],
      "metadata": {
        "colab": {
          "base_uri": "https://localhost:8080/"
        },
        "id": "Y0-1-qL4GnEc",
        "outputId": "58a2f69c-acf7-432f-d863-c1a9b10f7e30"
      },
      "execution_count": null,
      "outputs": [
        {
          "output_type": "stream",
          "name": "stdout",
          "text": [
            "tensor([[0.7024, 0.6200, 0.5326, 0.8865],\n",
            "        [0.9438, 0.4664, 0.1405, 0.1509],\n",
            "        [0.4449, 0.5966, 0.9782, 0.7575]])\n",
            "tensor([[0.9282, 0.8890, 0.3527, 0.7740],\n",
            "        [0.1632, 0.2160, 0.4742, 0.5013],\n",
            "        [0.5417, 0.9948, 0.5928, 0.1326]])\n",
            "tensor([[False, False, False, False],\n",
            "        [False, False, False, False],\n",
            "        [False, False, False, False]])\n"
          ]
        }
      ]
    },
    {
      "cell_type": "code",
      "source": [
        "#random but reproducable tensors use a seed\n",
        "RANDOM_SEED = 42\n",
        "\n",
        "torch.manual_seed(RANDOM_SEED)\n",
        "random_tensor_C = torch.rand(3,4)\n",
        "\n",
        "torch.manual_seed(RANDOM_SEED)\n",
        "random_tensor_D = torch.rand(3,4)\n",
        "\n",
        "print(random_tensor_C)\n",
        "print(random_tensor_D)\n",
        "print(random_tensor_C == random_tensor_D)"
      ],
      "metadata": {
        "colab": {
          "base_uri": "https://localhost:8080/"
        },
        "id": "hsb-gH6Xrogd",
        "outputId": "87983ea5-31db-440b-a9ab-d6c229c25edf"
      },
      "execution_count": null,
      "outputs": [
        {
          "output_type": "stream",
          "name": "stdout",
          "text": [
            "tensor([[0.8823, 0.9150, 0.3829, 0.9593],\n",
            "        [0.3904, 0.6009, 0.2566, 0.7936],\n",
            "        [0.9408, 0.1332, 0.9346, 0.5936]])\n",
            "tensor([[0.8823, 0.9150, 0.3829, 0.9593],\n",
            "        [0.3904, 0.6009, 0.2566, 0.7936],\n",
            "        [0.9408, 0.1332, 0.9346, 0.5936]])\n",
            "tensor([[True, True, True, True],\n",
            "        [True, True, True, True],\n",
            "        [True, True, True, True]])\n"
          ]
        }
      ]
    },
    {
      "cell_type": "code",
      "source": [
        "#CPU\n",
        "tensor = torch.tensor([1,2,3], device = \"cpu\")\n",
        "tensor, tensor.device"
      ],
      "metadata": {
        "colab": {
          "base_uri": "https://localhost:8080/"
        },
        "id": "EuTLQ5TDrodc",
        "outputId": "a279dc17-dd36-4108-9309-a767483640cd"
      },
      "execution_count": null,
      "outputs": [
        {
          "output_type": "execute_result",
          "data": {
            "text/plain": [
              "(tensor([1, 2, 3]), device(type='cpu'))"
            ]
          },
          "metadata": {},
          "execution_count": 129
        }
      ]
    },
    {
      "cell_type": "code",
      "source": [
        "device = \"cuda\" if torch.cuda.is_available() else \"cpu\"\n",
        "device"
      ],
      "metadata": {
        "colab": {
          "base_uri": "https://localhost:8080/",
          "height": 35
        },
        "id": "WDmgjnbs89nh",
        "outputId": "572ddf1c-2d56-4e58-d2a1-5ef7cabd65a6"
      },
      "execution_count": null,
      "outputs": [
        {
          "output_type": "execute_result",
          "data": {
            "text/plain": [
              "'cpu'"
            ],
            "application/vnd.google.colaboratory.intrinsic+json": {
              "type": "string"
            }
          },
          "metadata": {},
          "execution_count": 138
        }
      ]
    },
    {
      "cell_type": "code",
      "source": [
        "#move tensor to gpu in available\n",
        "tensor_on_gpu = tensor.to(device)\n",
        "tensor_on_gpu.device"
      ],
      "metadata": {
        "colab": {
          "base_uri": "https://localhost:8080/"
        },
        "id": "7aLm2uuw89cT",
        "outputId": "e38250dd-9c1e-41fd-acfa-d6929632baa2"
      },
      "execution_count": null,
      "outputs": [
        {
          "output_type": "execute_result",
          "data": {
            "text/plain": [
              "device(type='cpu')"
            ]
          },
          "metadata": {},
          "execution_count": 139
        }
      ]
    },
    {
      "cell_type": "code",
      "source": [
        "#move back to cpu\n",
        "#if tensor is on gpu, cannot transform to numpy"
      ],
      "metadata": {
        "id": "neap5b85roa7"
      },
      "execution_count": null,
      "outputs": []
    },
    {
      "cell_type": "code",
      "source": [
        "tensor_back_on_cpu = tensor_on_gpu.cpu().numpy()\n",
        "tensor_back_on_cpu"
      ],
      "metadata": {
        "colab": {
          "base_uri": "https://localhost:8080/"
        },
        "id": "TywmXGwZroX0",
        "outputId": "e4f99843-f03e-4090-d1c6-936f3c7346a7"
      },
      "execution_count": null,
      "outputs": [
        {
          "output_type": "execute_result",
          "data": {
            "text/plain": [
              "array([1, 2, 3])"
            ]
          },
          "metadata": {},
          "execution_count": 140
        }
      ]
    },
    {
      "cell_type": "code",
      "source": [
        "tensor_on_gpu"
      ],
      "metadata": {
        "colab": {
          "base_uri": "https://localhost:8080/"
        },
        "id": "MFpPgU1g-v1O",
        "outputId": "d1dd10c7-c651-4775-9633-d39b8f99765a"
      },
      "execution_count": null,
      "outputs": [
        {
          "output_type": "execute_result",
          "data": {
            "text/plain": [
              "tensor([1, 2, 3])"
            ]
          },
          "metadata": {},
          "execution_count": 141
        }
      ]
    },
    {
      "cell_type": "code",
      "source": [],
      "metadata": {
        "id": "pnOuCl9I_PP0"
      },
      "execution_count": null,
      "outputs": []
    },
    {
      "cell_type": "code",
      "source": [],
      "metadata": {
        "id": "YHhdsH5jroTP"
      },
      "execution_count": null,
      "outputs": []
    }
  ]
}